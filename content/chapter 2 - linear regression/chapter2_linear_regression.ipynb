{
 "cells": [
  {
   "cell_type": "markdown",
   "metadata": {},
   "source": [
    "# Chapter 2 - Linear Regression\n",
    "\n",
    "1. **Introduction to Linear Regression**\n",
    "   - Overview of linear regression\n",
    "   - Real-world applications and examples\n",
    "\n",
    "2. **Understanding the Basics**\n",
    "   - Key concepts: dependent and independent variables\n",
    "   - Line of best fit and the linear relationship\n",
    "\n",
    "3. **Correlation**\n",
    "   - Correlation coefficient (r): meaning and calculation\n",
    "   - Interpreting correlation: positive, negative, and no correlation\n",
    "\n",
    "4. **Measuring Data Variability**\n",
    "   - Standard deviation: definition and importance\n",
    "   - Calculating standard deviation in the context of linear regression\n",
    "   - Variance and its role in understanding data spread\n",
    "\n",
    "5. **Building a Simple Linear Regression Model**\n",
    "   - Formula and components of the regression equation (y = mx + b)\n",
    "   - Interpreting slope and intercept\n",
    "   - Making predictions using a linear model\n",
    "\n",
    "6. **Evaluating Model Fit**\n",
    "   - Mean squared error (MSE) and root mean squared error (RMSE)\n",
    "   - R-squared: measuring the strength of the model\n",
    "\n",
    "7. **Practical Example**\n",
    "   - Step-by-step walk-through of a simple linear regression example.\n"
   ]
  },
  {
   "cell_type": "markdown",
   "metadata": {},
   "source": [
    "### Overview of Linear Regression\n",
    "\n",
    "Linear regression is a fundamental statistical method used to model the relationship between two variables by fitting a linear equation to observed data. It’s one of the simplest and most widely used tools in predictive analytics, allowing us to understand how one variable changes in response to another.\n",
    "\n",
    "#### Key Concepts\n",
    "- **Dependent and Independent Variables**: In linear regression, we identify two types of variables. The **independent variable** (often denoted as `X`) is the predictor, or the factor we believe influences the other variable. The **dependent variable** (often denoted as `Y`) is the response, which we aim to predict or explain based on the changes in `X`.\n",
    "  \n",
    "- **The Line of Best Fit**: Linear regression seeks to find a straight line that best represents the relationship between `X` and `Y`. This line, called the **regression line**, is mathematically calculated to minimize the difference between the actual data points and the line itself. The goal is to make this difference, or error, as small as possible across all data points.\n",
    "\n",
    "#### Basic Equation of Linear Regression\n",
    "In simple linear regression (one predictor and one response), the relationship between `X` and `Y` is typically represented by the following equation:\n",
    "\n",
    "\n",
    "> _Y_ = m _X_ + b\n",
    "\n",
    "\n",
    "Where:\n",
    "- `Y` is the predicted value of the dependent variable.\n",
    "- `X` is the independent variable.\n",
    "- `m` (slope) represents the rate of change in `Y` for every unit increase in `X`.\n",
    "- `b` (intercept) is the value of `Y` when `X` is zero.\n",
    "\n",
    "#### Applications of Linear Regression\n",
    "Linear regression is widely used across various fields to identify trends, make predictions, and understand relationships between variables. Examples include:\n",
    "- **Economics**: Modeling the relationship between supply and demand.\n",
    "- **Business**: Predicting sales based on advertising spend.\n",
    "- **Healthcare**: Analyzing the relationship between treatment dosage and health outcomes.\n",
    "- **Social Sciences**: Understanding how factors like education level impact income.\n",
    "\n",
    "By analyzing the slope and intercept of the regression line, we can gain insights into the strength and direction of the relationship between variables. For instance, a positive slope indicates a positive correlation, where an increase in `X` is associated with an increase in `Y`, while a negative slope indicates a negative correlation."
   ]
  },
  {
   "cell_type": "markdown",
   "metadata": {},
   "source": [
    "### Key Concepts: Dependent and Independent Variables\n",
    "\n",
    "In linear regression, understanding the roles of **dependent** and **independent variables** is essential. These variables form the basis of the predictive relationship that linear regression models. Let’s dive into each concept and how they interact in regression.\n",
    "\n",
    "#### What is a Dependent Variable?\n",
    "The **dependent variable** (also known as the response variable) is the primary outcome or the value we aim to predict or explain. It’s called \"dependent\" because its value depends on the changes in another variable – the independent variable. \n",
    "\n",
    "In a regression equation, the dependent variable is often denoted by **`Y`**. For example:\n",
    "- In predicting **sales** based on advertising spend, **sales** would be the dependent variable.\n",
    "- In estimating **weight** based on height, **weight** is the dependent variable.\n",
    "  \n",
    "The dependent variable is the target of our analysis, representing the aspect of the data we’re most interested in understanding or predicting.\n",
    "\n",
    "#### What is an Independent Variable?\n",
    "The **independent variable** (also called the predictor or explanatory variable) is the factor that we believe influences or explains the dependent variable. The independent variable is \"independent\" because we assume its values are not influenced by changes in the dependent variable.\n",
    "\n",
    "<img src=\"images/dependent_independent.jpg\">\n",
    "\n",
    "In a regression equation, the independent variable is often denoted by **`X`**. For example:\n",
    "- When predicting sales, **advertising spend** could be the independent variable, as we expect it to influence sales.\n",
    "- In estimating weight based on height, **height** would be the independent variable, as it likely affects weight.\n",
    "\n",
    "The independent variable is the input of our model, and we use it to make predictions about the dependent variable.\n",
    "\n",
    "#### Relationship Between Dependent and Independent Variables\n",
    "In simple linear regression, we model the relationship between a single independent variable (`X`) and a single dependent variable (`Y`) with a straight line. The goal is to determine the linear relationship between these variables, which can be represented by the equation:\n",
    "\n",
    "\n",
    "> _Y_ = m _X_ + b\n",
    "\n",
    "\n",
    "Where:\n",
    "- **`Y`** is the predicted value of the dependent variable.\n",
    "- **`X`** is the value of the independent variable.\n",
    "- **`m`** (slope) represents the rate of change in `Y` for every unit change in `X`.\n",
    "- **`b`** (intercept) is the starting value of `Y` when `X` is zero.\n",
    "\n",
    "By determining this relationship, we can use the value of `X` (independent variable) to make informed predictions about `Y` (dependent variable).\n",
    "\n",
    "#### Examples of Dependent and Independent Variables\n",
    "To clarify the distinction, here are some examples from various fields:\n",
    "\n",
    "- **Business**: Predicting **revenue** (dependent variable) based on **marketing budget** (independent variable).\n",
    "- **Healthcare**: Estimating **blood pressure** (dependent variable) based on **age** (independent variable).\n",
    "- **Environmental Science**: Measuring **carbon emissions** (dependent variable) based on **industrial activity** (independent variable).\n",
    "- **Education**: Analyzing **test scores** (dependent variable) based on **study hours** (independent variable).\n",
    "\n",
    "By correctly identifying the dependent and independent variables, we ensure that our regression analysis is accurate and meaningful. Understanding these roles helps us set up a model that can uncover relationships and make reliable predictions."
   ]
  },
  {
   "cell_type": "markdown",
   "metadata": {},
   "source": [
    "### Line of Best Fit and the Linear Relationship\n",
    "\n",
    "In linear regression, we aim to find the **line of best fit**—a straight line that best represents the relationship between an independent variable `X` and a dependent variable `Y`. This line shows the **linear relationship** between these two variables, meaning that changes in `X` correspond to consistent changes in `Y`. Let’s break down what the line of best fit is, how it’s calculated, and why it’s useful.\n",
    "\n",
    "#### What is the Line of Best Fit?\n",
    "The line of best fit, or **regression line**, is the straight line that minimizes the distance between itself and the data points in a scatter plot. In other words, it’s the line that makes the total of all the squared distances from the points to the line as small as possible. These distances are called **residuals**, and a good regression line will keep these residuals small.\n",
    "\n",
    "Mathematically, the line of best fit in simple linear regression can be represented by the equation:\n",
    "\n",
    "\n",
    "> _Y_ = m _X_ + b\n",
    "\n",
    "\n",
    "Where:\n",
    "- **`Y`** is the predicted value of the dependent variable.\n",
    "- **`m`** is the slope, indicating how much `Y` changes for each unit increase in `X`.\n",
    "- **`X`** is the independent variable.\n",
    "- **`b`** is the intercept, which is the value of `Y` when `X = 0`.\n",
    "\n",
    "#### Calculating the Line of Best Fit\n",
    "To find the line of best fit, we calculate the slope (`m`) and intercept (`b`) values that minimize the error (or residuals). This process is usually done using a method called **Ordinary Least Squares (OLS)**. The goal of OLS is to find the values of `m` and `b` that result in the smallest possible sum of squared residuals.\n",
    "\n",
    "In practical terms, most data analysis tools (such as Python’s `scikit-learn`, R, or Excel) can compute the line of best fit automatically.\n",
    "\n",
    "#### Interpreting the Slope and Intercept\n",
    "- **Slope (`m`)**: The slope represents the rate at which the dependent variable `Y` changes with each unit increase in the independent variable `X`. A positive slope indicates a positive relationship (as `X` increases, `Y` also increases), while a negative slope indicates a negative relationship (as `X` increases, `Y` decreases).\n",
    "  \n",
    "- **Intercept (`b`)**: The intercept is the point where the regression line crosses the `Y`-axis. It represents the predicted value of `Y` when `X = 0`. In some cases, this has a meaningful interpretation, but in others (like predicting sales based on ad spending), it may not always make practical sense.\n",
    "\n",
    "#### Importance of the Linear Relationship\n",
    "A **linear relationship** means that the change in the dependent variable `Y` is proportional to the change in the independent variable `X`. In a strong linear relationship, the data points in a scatter plot tend to align closely along the line of best fit, while a weaker linear relationship shows more scattered points around the line.\n",
    "\n",
    "- **Positive Linear Relationship**: As `X` increases, `Y` also increases. For example, if we observe that higher temperatures (`X`) correlate with higher ice cream sales (`Y`), we have a positive relationship.\n",
    "  \n",
    "- **Negative Linear Relationship**: As `X` increases, `Y` decreases. For instance, as the number of miles driven (`X`) increases, the remaining gas in a tank (`Y`) decreases.\n",
    "\n",
    "#### Why the Line of Best Fit Matters\n",
    "The line of best fit is crucial because it provides a simple way to make predictions about `Y` based on new values of `X`. Once we have the regression line, we can input any value of `X` into our equation to estimate `Y`. This makes linear regression a powerful tool for forecasting and data-driven decision-making in areas like business, healthcare, economics, and more.\n",
    "\n",
    "For example, if a business knows its sales increase by $500 for each additional $1,000 spent on advertising, they can use this information to budget advertising efforts and predict potential revenue."
   ]
  },
  {
   "cell_type": "code",
   "execution_count": 23,
   "metadata": {},
   "outputs": [],
   "source": [
    "import pandas as pd\n",
    "import matplotlib.pyplot as plt\n",
    "from statistics import correlation\n",
    "%matplotlib inline"
   ]
  },
  {
   "cell_type": "code",
   "execution_count": 19,
   "metadata": {},
   "outputs": [
    {
     "data": {
      "text/html": [
       "<div>\n",
       "<style scoped>\n",
       "    .dataframe tbody tr th:only-of-type {\n",
       "        vertical-align: middle;\n",
       "    }\n",
       "\n",
       "    .dataframe tbody tr th {\n",
       "        vertical-align: top;\n",
       "    }\n",
       "\n",
       "    .dataframe thead th {\n",
       "        text-align: right;\n",
       "    }\n",
       "</style>\n",
       "<table border=\"1\" class=\"dataframe\">\n",
       "  <thead>\n",
       "    <tr style=\"text-align: right;\">\n",
       "      <th></th>\n",
       "      <th>TV</th>\n",
       "      <th>Radio</th>\n",
       "      <th>Newspaper</th>\n",
       "      <th>Sales</th>\n",
       "    </tr>\n",
       "  </thead>\n",
       "  <tbody>\n",
       "    <tr>\n",
       "      <th>0</th>\n",
       "      <td>230.1</td>\n",
       "      <td>37.8</td>\n",
       "      <td>69.2</td>\n",
       "      <td>22.1</td>\n",
       "    </tr>\n",
       "    <tr>\n",
       "      <th>1</th>\n",
       "      <td>44.5</td>\n",
       "      <td>39.3</td>\n",
       "      <td>45.1</td>\n",
       "      <td>10.4</td>\n",
       "    </tr>\n",
       "    <tr>\n",
       "      <th>2</th>\n",
       "      <td>17.2</td>\n",
       "      <td>45.9</td>\n",
       "      <td>69.3</td>\n",
       "      <td>12.0</td>\n",
       "    </tr>\n",
       "    <tr>\n",
       "      <th>3</th>\n",
       "      <td>151.5</td>\n",
       "      <td>41.3</td>\n",
       "      <td>58.5</td>\n",
       "      <td>16.5</td>\n",
       "    </tr>\n",
       "    <tr>\n",
       "      <th>4</th>\n",
       "      <td>180.8</td>\n",
       "      <td>10.8</td>\n",
       "      <td>58.4</td>\n",
       "      <td>17.9</td>\n",
       "    </tr>\n",
       "  </tbody>\n",
       "</table>\n",
       "</div>"
      ],
      "text/plain": [
       "      TV  Radio  Newspaper  Sales\n",
       "0  230.1   37.8       69.2   22.1\n",
       "1   44.5   39.3       45.1   10.4\n",
       "2   17.2   45.9       69.3   12.0\n",
       "3  151.5   41.3       58.5   16.5\n",
       "4  180.8   10.8       58.4   17.9"
      ]
     },
     "execution_count": 19,
     "metadata": {},
     "output_type": "execute_result"
    }
   ],
   "source": [
    "adv = pd.read_csv('data/advertising.csv')\n",
    "adv.head()"
   ]
  },
  {
   "cell_type": "code",
   "execution_count": 22,
   "metadata": {},
   "outputs": [
    {
     "data": {
      "image/png": "[encoded data removed]",
      "text/plain": [
       "<Figure size 640x480 with 1 Axes>"
      ]
     },
     "metadata": {},
     "output_type": "display_data"
    }
   ],
   "source": [
    "plt.scatter(adv['Newspaper'], adv['Sales'])\n",
    "plt.show()"
   ]
  },
  {
   "cell_type": "code",
   "execution_count": 24,
   "metadata": {},
   "outputs": [
    {
     "data": {
      "text/plain": [
       "0.9012079133023309"
      ]
     },
     "execution_count": 24,
     "metadata": {},
     "output_type": "execute_result"
    }
   ],
   "source": [
    "correlation(adv['TV'], adv['Sales'])"
   ]
  },
  {
   "cell_type": "code",
   "execution_count": 25,
   "metadata": {},
   "outputs": [
    {
     "data": {
      "text/plain": [
       "0.3496310970076692"
      ]
     },
     "execution_count": 25,
     "metadata": {},
     "output_type": "execute_result"
    }
   ],
   "source": [
    "correlation(adv['Radio'], adv['Sales'])"
   ]
  },
  {
   "cell_type": "code",
   "execution_count": 26,
   "metadata": {},
   "outputs": [
    {
     "data": {
      "text/plain": [
       "0.15796002615492627"
      ]
     },
     "execution_count": 26,
     "metadata": {},
     "output_type": "execute_result"
    }
   ],
   "source": [
    "correlation(adv['Newspaper'], adv['Sales'])"
   ]
  },
  {
   "cell_type": "code",
   "execution_count": null,
   "metadata": {},
   "outputs": [],
   "source": []
  }
 ],
 "metadata": {
  "kernelspec": {
   "display_name": "Python 3",
   "language": "python",
   "name": "python3"
  },
  "language_info": {
   "codemirror_mode": {
    "name": "ipython",
    "version": 3
   },
   "file_extension": ".py",
   "mimetype": "text/x-python",
   "name": "python",
   "nbconvert_exporter": "python",
   "pygments_lexer": "ipython3",
   "version": "3.10.11"
  }
 },
 "nbformat": 4,
 "nbformat_minor": 2
}
