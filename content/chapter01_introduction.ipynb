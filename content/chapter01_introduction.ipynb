{
 "cells": [
  {
   "cell_type": "markdown",
   "metadata": {},
   "source": [
    "# Chapter 1 - Introduction\n",
    "\n",
    "1. Definition and Overview of Machine Learning.\n",
    "2. Why use Machine Learning?\n",
    "3. Types of Machine Learning.\n",
    "4. Key Concepts and Terminalogy.\n",
    "5. Examples of Real-World Applications."
   ]
  },
  {
   "cell_type": "markdown",
   "metadata": {},
   "source": [
    "## What is Machine Learning?\n",
    "\n",
    "Machine Learning is the science of programming computers so they can learn from data.\n",
    "\n",
    "Traditional programming involves us writing rules, expressed in a programming language, that act on data and give us answers. This applies just about everywhere that something can be programmed with code. Consider a financial services scenario. You have data about a company’s stock, such as its current price and current earnings. You can calculate a valuable ratio called the P/E (for price divided by earnings) with code.\n",
    "\n",
    "<img src=\"images/chapter1//financial_service_scenario.png\" \n",
    "    width=450 height=400\n",
    "/>\n",
    "\n",
    "Your code reads the price, reads the earnings, and returns a value that is the former divided by the latter. If I were to try to sum up traditional programming like this into a single diagram, it might look like this.\n",
    "\n",
    "<img src=\"images/chapter1/traditional_programming.png\"\n",
    "    width=550 height=150>\n",
    "\n",
    "As you can see, you have rules expressed in a programming language. These rules act on data, and the result is answers.\n",
    "\n",
    "Traditional programming requires humans to explicitly define all the rules and logic. This makes it difficult for complex or abstract tasks, such as image or speech recognition, where defining every possible rule is impractical or impossible.\n",
    "Programs operate only as designed, following the exact logic provided by programmers. They don’t adapt to new situations or improve over time without explicit changes to the code.\n",
    "As the complexity of a problem increases, the number of rules required grows significantly. This impacts scalability, making traditional programming less suitable for tasks that require continuous adaptation and improvement.\n",
    "\n",
    "These limitations highlight why machine learning is often the preferred approach for complex, data-driven tasks.\n",
    "\n",
    "We can consider this high-level diagram to define machine learning.\n",
    "\n",
    "<img src=\"images/chapter1/ml_programming.png\"\n",
    "    width=550 height=150 />\n",
    "\n",
    "So what are the implications of this? Well, now instead of us trying to figure out what the rules are, we get lots of data about our scenario, we label that data, and the computer can figure out what the rules are that make one piece of data match a particular label and another piece of data match a different label."
   ]
  },
  {
   "cell_type": "markdown",
   "metadata": {},
   "source": [
    "## Why Use Machine Learning?\n",
    "\n",
    "Consider how you would write a spam filter using traditional programming techniques:\n",
    "\n",
    "    1. First you would examine what spam typically looks like. You might notice that some words or phrases (such as “4U,” “credit card,” “free,” and “amazing”) tend to come up a lot in the subject line. Perhaps you would also notice a few other patterns in the sender’s name, the email’s body, and other parts of the email.\n",
    "    2. You would write a detection algorithm for each of the patterns that you noticed, and your program would flag emails as spam if a number of these patterns were detected.\n",
    "    3. You would test your program and repeat steps 1 and 2 until it was good enough to launch.\n",
    "\n",
    "<img src=\"images/chapter1/traditional_spam_filter_flow.png\" \n",
    "    height=500 width=400 />\n",
    "\n",
    "Since the problem is difficult, your program will likely become a long list of complex rules—pretty hard to maintain.\n",
    "\n",
    "In contrast, a spam filter based on Machine Learning techniques\n",
    "automatically learns which words and phrases are good predictors of spam by detecting unusually frequent patterns of words in the spam examples compared to the ham examples. The program is much shorter, easier to maintain, and most likely more accurate.\n",
    "\n",
    "What if spammers notice that all their emails containing “4U” are blocked? \n",
    "They might start writing “For U” instead. A spam filter using traditional programming techniques would need to be updated to flag “For U” emails. If spammers keep working around your spam filter, you will need to keep writing new rules forever.\n",
    "\n",
    "In contrast, a spam filter based on Machine Learning techniques\n",
    "automatically notices that “For U” has become unusually frequent in spam flagged by users, and it starts flagging them without your intervention.\n",
    "\n",
    "<img src=\"images/chapter1/ml_spam_filter_flow.png\" \n",
    "    height=500 width=400 />"
   ]
  },
  {
   "cell_type": "markdown",
   "metadata": {},
   "source": [
    "Another area where Machine Learning shines is for problems that either are too complex for traditional approaches or have no known algorithm. For example, consider speech recognition. Say you want to start simple and write a program capable of distinguishing the words “one” and “two.” You might notice that the word “two” starts with a high-pitch sound (“T”), so you could hardcode an algorithm that measures high-pitch sound intensity and use that to distinguish ones and twos—but obviously this technique will not scale to thousands of words spoken by millions of very different people in noisy environments and in dozens of languages. The best solution (at least today) is to write an algorithm that learns by itself, given many example recordings for each word."
   ]
  },
  {
   "cell_type": "markdown",
   "metadata": {},
   "source": [
    "To summarize, Machine Learning is great for:\n",
    "    \n",
    "    - Problems for which existing solutions require a lot of fine-tuning or long lists of rules: one Machine Learning model can often simplify code and perform better than the traditional approach.\n",
    "    - Complex problems for which using a traditional approach yields no good solution: the best Machine Learning techniques can perhaps find a solution.\n",
    "    - Fluctuating environments: a Machine Learning system can easily be retrained on new data, always keeping it up to date.\n",
    "    - Getting insights about complex problems and large amounts of data."
   ]
  },
  {
   "cell_type": "markdown",
   "metadata": {},
   "source": [
    "## Types of Machine Learning"
   ]
  },
  {
   "cell_type": "markdown",
   "metadata": {},
   "source": [
    "## Key Concepts and Terminalogy"
   ]
  },
  {
   "cell_type": "markdown",
   "metadata": {},
   "source": [
    "## Examples of Real-World Applications\n",
    "\n",
    "Let's look at some concrete examples of Machine Learning tasks, along with the techniques that can tackle them:\n",
    "\n",
    "1. Recommendation systems\n",
    "Recommendation engines are one of the most popular applications of machine learning, as product recommendations are featured on most e-commerce websites. Using machine learning models, websites track your behavior to recognize patterns in your browsing history, previous purchases, and shopping cart activity. This data collection is used for pattern recognition to predict user preferences.\n",
    "\n",
    "Companies like Spotify and Netflix use similar machine learning algorithms to recommend music or TV shows based on your previous listening and viewing history. Over time and with training, these algorithms aim to understand your preferences to accurately predict which artists or films you may enjoy.\n",
    "\n",
    "2. Social media connections\n",
    "Another example of a similar training algorithm is the “people you may know” feature on social media platforms like LinkedIn, Instagram, Facebook, and X (formerly known as Twitter). Based on your contacts, comments, likes, or existing connections, the algorithm suggests familiar faces from your real-life network that you might want to connect with or follow.\n",
    "\n",
    "3. Image recognition\n",
    "Image recognition is another machine learning technique that appears in our day-to-day life. With the use of ML, programs can identify an object or person in an image based on the intensity of the pixels. This type of facial recognition is used for password protection methods like Face ID and in law enforcement. By filtering through a database of people to identify commonalities and matching them to faces, police officers and investigators can narrow down a list of crime suspects. \n",
    "\n"
   ]
  },
  {
   "cell_type": "markdown",
   "metadata": {},
   "source": []
  }
 ],
 "metadata": {
  "kernelspec": {
   "display_name": "Python 3 (ipykernel)",
   "language": "python",
   "name": "python3"
  },
  "language_info": {
   "codemirror_mode": {
    "name": "ipython",
    "version": 3
   },
   "file_extension": ".py",
   "mimetype": "text/x-python",
   "name": "python",
   "nbconvert_exporter": "python",
   "pygments_lexer": "ipython3",
   "version": "3.10.11"
  }
 },
 "nbformat": 4,
 "nbformat_minor": 4
}
