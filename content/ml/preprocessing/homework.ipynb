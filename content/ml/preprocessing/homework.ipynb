{
 "cells": [
  {
   "cell_type": "markdown",
   "id": "9d6e361d",
   "metadata": {},
   "source": [
    "### **Homework Assignment: Data Preprocessing for Machine Learning**\n",
    "\n",
    "#### **Dataset**\n",
    "\n",
    "Use the **California Housing Dataset** from Aurélien Géron's GitHub repo:"
   ]
  },
  {
   "cell_type": "code",
   "execution_count": 3,
   "id": "758de9b3",
   "metadata": {},
   "outputs": [
    {
     "name": "stdout",
     "output_type": "stream",
     "text": [
      "Downloading https://github.com/ageron/data/raw/main/housing.tgz...\n",
      "Extracting datasets/housing/housing.tgz...\n",
      "Download and extraction completed successfully!\n",
      "Error: Could not find datasets/housing/housing.csv after download\n"
     ]
    }
   ],
   "source": [
    "import os\n",
    "import tarfile\n",
    "import urllib.request\n",
    "import pandas as pd\n",
    "\n",
    "DOWNLOAD_ROOT = \"https://github.com/ageron/data/raw/main/\"\n",
    "HOUSING_PATH = os.path.join(\"datasets\", \"housing\")\n",
    "HOUSING_URL = DOWNLOAD_ROOT + \"housing.tgz\"\n",
    "\n",
    "def fetch_housing_data(housing_url=HOUSING_URL, housing_path=HOUSING_PATH):\n",
    "    try:\n",
    "        # Create directory if it doesn't exist\n",
    "        os.makedirs(housing_path, exist_ok=True)\n",
    "        \n",
    "        # Download the file\n",
    "        tgz_path = os.path.join(housing_path, \"housing.tgz\")\n",
    "        print(f\"Downloading {housing_url}...\")\n",
    "        urllib.request.urlretrieve(housing_url, tgz_path)\n",
    "        \n",
    "        # Extract the file\n",
    "        print(f\"Extracting {tgz_path}...\")\n",
    "        with tarfile.open(tgz_path) as housing_tgz:\n",
    "            housing_tgz.extractall(path=housing_path)\n",
    "        \n",
    "        print(\"Download and extraction completed successfully!\")\n",
    "        return True\n",
    "    except Exception as e:\n",
    "        print(f\"An error occurred: {e}\")\n",
    "        return False\n",
    "\n",
    "# Try to fetch the data\n",
    "if fetch_housing_data():\n",
    "    # If download and extraction were successful, read the CSV\n",
    "    csv_path = os.path.join(HOUSING_PATH, \"housing.csv\")\n",
    "    if os.path.exists(csv_path):\n",
    "        df = pd.read_csv(csv_path)\n",
    "        print(\"Data loaded successfully!\")\n",
    "        print(df.head())\n",
    "    else:\n",
    "        print(f\"Error: Could not find {csv_path} after download\")\n",
    "else:\n",
    "    print(\"Failed to download the housing data\")"
   ]
  },
  {
   "cell_type": "markdown",
   "id": "027777e1",
   "metadata": {},
   "source": [
    "## **Part 1: Exploratory Data Analysis (EDA)**\n",
    "\n",
    "1. Display:\n",
    "\n",
    "   * The first 10 rows.\n",
    "   * Dataset info using `.info()`.\n",
    "   * Summary statistics using `.describe()`.\n",
    "   * Value counts for categorical columns (e.g., `ocean_proximity`).\n",
    "\n",
    "2. Identify:\n",
    "\n",
    "   * Columns with missing values.\n",
    "   * Numerical vs categorical features.\n",
    "   * Columns with unusual distributions or outliers.\n",
    "\n",
    "---\n",
    "\n",
    "## **Part 2: Handling Missing Values**\n",
    "\n",
    "3. For missing data:\n",
    "\n",
    "   * Drop any row or column if missing values are insignificant.\n",
    "   * Use **median** imputation for `total_bedrooms`.\n",
    "\n",
    "4. Create a `missing_report(df)` function that:\n",
    "\n",
    "   * Returns a DataFrame: column name, count and percentage of missing values.\n",
    "\n",
    "---\n",
    "\n",
    "## **Part 3: Encoding Categorical Variables**\n",
    "\n",
    "5. Encode the `ocean_proximity` column:\n",
    "\n",
    "   * Use **One-Hot Encoding** via `pd.get_dummies()` or `OneHotEncoder`.\n",
    "\n",
    "---\n",
    "\n",
    "## **Part 4: Feature Scaling**\n",
    "\n",
    "6. For numerical features:\n",
    "\n",
    "   * Apply both **StandardScaler** and **MinMaxScaler** to features like:\n",
    "\n",
    "     * `median_income`, `housing_median_age`, `population`, `median_house_value`\n",
    "   * Plot feature histograms before and after scaling.\n",
    "\n",
    "---\n",
    "\n",
    "## **Part 5: Optional Feature Engineering**\n",
    "\n",
    "7. Create meaningful new features:\n",
    "\n",
    "   * `rooms_per_household = total_rooms / households`\n",
    "   * `bedrooms_per_room = total_bedrooms / total_rooms`\n",
    "   * `population_per_household = population / households`"
   ]
  },
  {
   "cell_type": "markdown",
   "id": "9a70298d",
   "metadata": {},
   "source": []
  }
 ],
 "metadata": {
  "kernelspec": {
   "display_name": ".venv",
   "language": "python",
   "name": "python3"
  },
  "language_info": {
   "codemirror_mode": {
    "name": "ipython",
    "version": 3
   },
   "file_extension": ".py",
   "mimetype": "text/x-python",
   "name": "python",
   "nbconvert_exporter": "python",
   "pygments_lexer": "ipython3",
   "version": "3.12.3"
  }
 },
 "nbformat": 4,
 "nbformat_minor": 5
}
