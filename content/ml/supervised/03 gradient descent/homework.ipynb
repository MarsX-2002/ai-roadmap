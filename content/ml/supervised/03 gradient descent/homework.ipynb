{
 "cells": [
  {
   "cell_type": "markdown",
   "metadata": {},
   "source": [
    "### **Gradient Descent: Predicting House Prices**\n",
    "\n",
    "#### Objective:\n",
    "Your task is to implement and use **Gradient Descent** to optimize a regression model for predicting house prices based on various features. You'll work with a real-world dataset to understand the workings of gradient descent, evaluate its performance, and compare it with other optimization techniques.\n",
    "\n",
    "#### Dataset:\n",
    "Use the **Boston Housing dataset**, which contains information on 506 houses in Boston suburbs. Each row corresponds to a house, and the columns represent various features such as crime rate, number of rooms, and proximity to employment centers. The target variable is the **median value of owner-occupied homes (in $1000s)**.\n",
    "\n",
    "Dataset Sources:\n",
    "- Available in `sklearn.datasets` as `load_boston` (for legacy use, or download the CSV from external sources like Kaggle).\n",
    "- Alternatively, use a similar housing dataset if preferred.\n",
    "\n",
    "#### Steps to Complete:\n",
    "\n",
    "1. **Data Loading and Exploration**  \n",
    "   - Load the dataset using `pandas` or `sklearn.datasets`.\n",
    "   - Explore the data: Understand the features, visualize their distributions, and check for missing values or anomalies.\n",
    "   - Normalize or scale the features to ensure smooth convergence of gradient descent.\n",
    "\n",
    "2. **Define the Linear Regression Model**  \n",
    "   - Create a linear regression model with parameters (weights and biases) initialized to zero or small random values.\n",
    "   - Define the **cost function** as **Mean Squared Error (MSE)**.\n",
    "\n",
    "3. **Implement Gradient Descent**  \n",
    "   - Write a custom implementation of Gradient Descent to optimize the weights and biases of the regression model:\n",
    "     - Compute gradients of the cost function with respect to each parameter.\n",
    "     - Update parameters iteratively using the gradient descent formula:\n",
    "       $$\n",
    "       \\theta := \\theta - \\alpha \\cdot \\nabla J(\\theta)\n",
    "       $$\n",
    "       where $ \\alpha $ is the learning rate.\n",
    "\n",
    "4. **Experiment with Hyperparameters**  \n",
    "   - Test the algorithm with different learning rates ($ \\alpha $).\n",
    "   - Observe and plot the cost function values over iterations to ensure convergence.\n",
    "\n",
    "5. **Model Evaluation**  \n",
    "   - Split the dataset into **training** and **test sets**.\n",
    "   - Evaluate the model's performance on both datasets using:\n",
    "     - Mean Squared Error (MSE)\n",
    "     - R² score\n",
    "   - Compare predictions with actual values.\n",
    "\n",
    "6. **Visualization**  \n",
    "   - Plot the cost function against iterations to visualize convergence.\n",
    "   - Visualize the relationship between features (e.g., number of rooms) and predicted house prices.\n",
    "\n",
    "\n",
    "#### Bonus Challenges (Optional):\n",
    "\n",
    "1. **Mini-Batch Gradient Descent**:  \n",
    "   - Modify your implementation to use mini-batches instead of the entire dataset for each gradient step.\n",
    "   - Compare the performance and convergence speed of batch and mini-batch gradient descent.\n",
    "\n",
    "2. **Stochastic Gradient Descent (SGD)**:  \n",
    "   - Implement stochastic gradient descent and compare its performance with batch gradient descent.\n",
    "\n",
    "3. **Multiple Models**:  \n",
    "   - Train and evaluate the same dataset using **Scikit-learn's LinearRegression** for comparison.\n",
    "\n",
    "#### Deliverables:\n",
    "- A Python script or Jupyter Notebook containing:\n",
    "  - Code for loading and preprocessing the data.\n",
    "  - Implementation of Gradient Descent for linear regression.\n",
    "  - Results of model training and evaluation.\n",
    "  - Visualizations of cost function convergence and predictions.\n",
    "- A brief report answering:\n",
    "  - How does the learning rate affect convergence?\n",
    "  - What were the final MSE and R² scores?\n",
    "  - Insights from comparing different optimization techniques."
   ]
  },
  {
   "cell_type": "code",
   "execution_count": null,
   "metadata": {
    "vscode": {
     "languageId": "plaintext"
    }
   },
   "outputs": [],
   "source": []
  }
 ],
 "metadata": {
  "language_info": {
   "name": "python"
  }
 },
 "nbformat": 4,
 "nbformat_minor": 2
}
