{
 "cells": [
  {
   "cell_type": "code",
   "execution_count": null,
   "metadata": {},
   "outputs": [],
   "source": [
    "from fastai.vision.all import *"
   ]
  },
  {
   "cell_type": "code",
   "execution_count": 5,
   "metadata": {},
   "outputs": [],
   "source": [
    "def search_images_ddg(key,max_n=200):\n",
    "     \"\"\"Search for 'key' with DuckDuckGo and return a unique urls of 'max_n' images\n",
    "        (Adopted from https://github.com/deepanprabhu/duckduckgo-images-api)\n",
    "     \"\"\"\n",
    "     url        = 'https://duckduckgo.com/'\n",
    "     params     = {'q':key}\n",
    "     res        = requests.post(url,data=params)\n",
    "     searchObj  = re.search(r'vqd=([\\d-]+)\\&',res.text)\n",
    "     if not searchObj: print('Token Parsing Failed !'); return\n",
    "     requestUrl = url + 'i.js'\n",
    "     headers    = {'User-Agent': 'Mozilla/5.0 (X11; Ubuntu; Linux x86_64; rv:71.0) Gecko/20100101 Firefox/71.0'}\n",
    "     params     = (('l','us-en'),('o','json'),('q',key),('vqd',searchObj.group(1)),('f',',,,'),('p','1'),('v7exp','a'))\n",
    "     urls       = []\n",
    "     while True:\n",
    "         try:\n",
    "             res  = requests.get(requestUrl,headers=headers,params=params)\n",
    "             data = json.loads(res.text)\n",
    "             for obj in data['results']:\n",
    "                 urls.append(obj['image'])\n",
    "                 max_n = max_n - 1\n",
    "                 if max_n < 1: return L(set(urls))     # dedupe\n",
    "             if 'next' not in data: return L(set(urls))\n",
    "             requestUrl = url + data['next']\n",
    "         except:\n",
    "             pass\n",
    "\n"
   ]
  },
  {
   "cell_type": "code",
   "execution_count": null,
   "metadata": {},
   "outputs": [],
   "source": [
    "ims = search_images_ddg('grizzly bear')"
   ]
  },
  {
   "cell_type": "code",
   "execution_count": null,
   "metadata": {},
   "outputs": [],
   "source": []
  }
 ],
 "metadata": {
  "kernelspec": {
   "display_name": "Python 3",
   "language": "python",
   "name": "python3"
  },
  "language_info": {
   "codemirror_mode": {
    "name": "ipython",
    "version": 3
   },
   "file_extension": ".py",
   "mimetype": "text/x-python",
   "name": "python",
   "nbconvert_exporter": "python",
   "pygments_lexer": "ipython3",
   "version": "3.10.11"
  }
 },
 "nbformat": 4,
 "nbformat_minor": 2
}
