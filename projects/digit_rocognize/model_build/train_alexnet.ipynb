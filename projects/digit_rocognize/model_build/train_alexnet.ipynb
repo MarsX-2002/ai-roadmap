{
 "cells": [
  {
   "cell_type": "code",
   "execution_count": null,
   "id": "6c7d7455",
   "metadata": {},
   "outputs": [],
   "source": [
    "import torch\n",
    "import torch.nn as nn\n",
    "import torch.optim as optim\n",
    "from torch.utils.data import DataLoader\n",
    "import torchvision.transforms as transforms\n",
    "from torchvision.datasets import MNIST\n",
    "from tqdm import tqdm\n",
    "\n",
    "from alexnet import AlexNet"
   ]
  },
  {
   "cell_type": "code",
   "execution_count": 3,
   "id": "8a660e57",
   "metadata": {},
   "outputs": [
    {
     "name": "stderr",
     "output_type": "stream",
     "text": [
      "100%|██████████| 9.91M/9.91M [00:03<00:00, 2.82MB/s]\n",
      "100%|██████████| 28.9k/28.9k [00:00<00:00, 115kB/s]\n",
      "100%|██████████| 1.65M/1.65M [00:01<00:00, 986kB/s] \n",
      "100%|██████████| 4.54k/4.54k [00:00<?, ?B/s]\n"
     ]
    }
   ],
   "source": [
    "mnist_tr = transforms.Compose([\n",
    "    transforms.Resize((224, 224)),\n",
    "    transforms.ToTensor(),\n",
    "    transforms.Normalize((0.5,), (0.5,))\n",
    "])\n",
    "trainset = MNIST('./data', train=True, transform=mnist_tr, download=True)\n",
    "testset = MNIST('./data', train=False, transform=mnist_tr, download=False)\n",
    "\n",
    "train_loader = DataLoader(trainset, batch_size=64, shuffle=True)\n",
    "test_loader = DataLoader(trainset, batch_size=64, shuffle=False)"
   ]
  },
  {
   "cell_type": "code",
   "execution_count": 12,
   "id": "307286c0",
   "metadata": {},
   "outputs": [
    {
     "data": {
      "text/plain": [
       "device(type='cpu')"
      ]
     },
     "execution_count": 12,
     "metadata": {},
     "output_type": "execute_result"
    }
   ],
   "source": [
    "device = torch.device('cuda' if torch.cuda.is_available() else 'cpu')\n",
    "device"
   ]
  },
  {
   "cell_type": "code",
   "execution_count": 14,
   "id": "368c35fa",
   "metadata": {},
   "outputs": [],
   "source": [
    "model = AlexNet(num_classes=10, in_channels=1).to(device)"
   ]
  },
  {
   "cell_type": "code",
   "execution_count": 17,
   "id": "0e76bd72",
   "metadata": {},
   "outputs": [],
   "source": [
    "optimizer = optim.AdamW(model.parameters())\n",
    "criterion = nn.CrossEntropyLoss()"
   ]
  },
  {
   "cell_type": "code",
   "execution_count": 19,
   "id": "720acd14",
   "metadata": {},
   "outputs": [
    {
     "name": "stderr",
     "output_type": "stream",
     "text": [
      "100%|██████████| 938/938 [1:14:34<00:00,  4.77s/it]"
     ]
    },
    {
     "name": "stdout",
     "output_type": "stream",
     "text": [
      "Loss for epoch=1 is 0.2963668534967568.\n"
     ]
    },
    {
     "name": "stderr",
     "output_type": "stream",
     "text": [
      "\n"
     ]
    }
   ],
   "source": [
    "epochs = 1\n",
    "\n",
    "for epoch in range(1, epochs+1):\n",
    "    model.train()\n",
    "\n",
    "    total_loss = 0\n",
    "    for X, Y in tqdm(train_loader):\n",
    "        X, Y = X.to(device), Y.to(device)\n",
    "        logits = model(X)\n",
    "        loss = criterion(logits, Y)\n",
    "        optimizer.zero_grad()\n",
    "        loss.backward()\n",
    "        optimizer.step()\n",
    "\n",
    "        total_loss += loss.item()\n",
    "    print(f\"Loss for {epoch=} is {total_loss/len(train_loader)}.\")\n"
   ]
  },
  {
   "cell_type": "code",
   "execution_count": 20,
   "id": "a66acbcd",
   "metadata": {},
   "outputs": [],
   "source": [
    "torch.save(model.state_dict(), 'alexnet_mnist.pth')"
   ]
  },
  {
   "cell_type": "code",
   "execution_count": 21,
   "id": "5258abe3",
   "metadata": {},
   "outputs": [],
   "source": [
    "from evaluate import load\n",
    "accuracy = load('accuracy')"
   ]
  },
  {
   "cell_type": "code",
   "execution_count": 22,
   "id": "8a456273",
   "metadata": {},
   "outputs": [
    {
     "name": "stderr",
     "output_type": "stream",
     "text": [
      "100%|██████████| 938/938 [25:33<00:00,  1.63s/it]  \n"
     ]
    }
   ],
   "source": [
    "model.eval()\n",
    "for X, Y in tqdm(test_loader):\n",
    "    X, Y = X.to(device), Y.to(device)\n",
    "    with torch.no_grad():\n",
    "        logits = model(X)\n",
    "    preds = logits.argmax(dim=-1)\n",
    "\n",
    "    accuracy.add_batch(predictions=preds, references=Y)\n",
    "\n",
    "acc = accuracy.compute()"
   ]
  },
  {
   "cell_type": "code",
   "execution_count": 23,
   "id": "a691d021",
   "metadata": {},
   "outputs": [
    {
     "data": {
      "text/plain": [
       "{'accuracy': 0.9779333333333333}"
      ]
     },
     "execution_count": 23,
     "metadata": {},
     "output_type": "execute_result"
    }
   ],
   "source": [
    "acc"
   ]
  },
  {
   "cell_type": "code",
   "execution_count": 27,
   "id": "3492e03c",
   "metadata": {},
   "outputs": [
    {
     "name": "stdout",
     "output_type": "stream",
     "text": [
      "   Actual: [5, 9, 2, 2, 0, 9, 2, 4, 6, 7, 3, 1, 3, 6, 6, 2, 1, 2, 6, 0, 7, 8, 9, 2, 9, 5, 1, 8, 3, 5, 6, 8]\n",
      "Predicted: [5, 9, 2, 2, 0, 9, 2, 4, 6, 7, 3, 1, 3, 6, 6, 2, 1, 2, 6, 0, 7, 8, 9, 2, 9, 5, 1, 8, 3, 5, 6, 8]\n"
     ]
    }
   ],
   "source": [
    "print(\"Actual:\".rjust(10), Y.tolist())\n",
    "print(\"Predicted:\", preds.tolist())"
   ]
  },
  {
   "cell_type": "code",
   "execution_count": null,
   "id": "eea04bed",
   "metadata": {},
   "outputs": [],
   "source": []
  }
 ],
 "metadata": {
  "kernelspec": {
   "display_name": "Python 3",
   "language": "python",
   "name": "python3"
  },
  "language_info": {
   "codemirror_mode": {
    "name": "ipython",
    "version": 3
   },
   "file_extension": ".py",
   "mimetype": "text/x-python",
   "name": "python",
   "nbconvert_exporter": "python",
   "pygments_lexer": "ipython3",
   "version": "3.12.10"
  }
 },
 "nbformat": 4,
 "nbformat_minor": 5
}
